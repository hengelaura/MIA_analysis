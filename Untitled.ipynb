{
 "cells": [
  {
   "cell_type": "markdown",
   "id": "ce8ccf33",
   "metadata": {},
   "source": [
    "# Minneapolis Institute of Art (MIA) data exploration"
   ]
  },
  {
   "cell_type": "markdown",
   "id": "d4ad0cd5",
   "metadata": {},
   "source": [
    " The Minneapolis Institute of Art have published the data of their collection (both on and off exhibit) publicly in GitHub. I will be examining the data below and creating a data pipeline to upsert future information into my final table. My final table will be used to visualize the data and answer some questions that I will be coming up with below."
   ]
  },
  {
   "cell_type": "code",
   "execution_count": 223,
   "id": "1ba106f4",
   "metadata": {},
   "outputs": [],
   "source": [
    "import pandas as pd\n",
    "import json\n",
    "import glob"
   ]
  },
  {
   "cell_type": "code",
   "execution_count": 224,
   "id": "8f32bfc0",
   "metadata": {},
   "outputs": [],
   "source": [
    "path1 = \"collection-main\\\\departments\\\\1.json\"\n",
    "path2 = \"collection-main\\\\departments\\\\2.json\"\n",
    "dept1 = pd.read_json(path1)\n",
    "dept2 = pd.read_json(path2)"
   ]
  },
  {
   "cell_type": "code",
   "execution_count": 225,
   "id": "3cdce347",
   "metadata": {},
   "outputs": [
    {
     "name": "stdout",
     "output_type": "stream",
     "text": [
      "            id       artworks\n",
      "count  41524.0   41524.000000\n",
      "mean       2.0   73288.526154\n",
      "std        0.0   33144.521075\n",
      "min        2.0       0.000000\n",
      "25%        2.0   51615.750000\n",
      "50%        2.0   69288.500000\n",
      "75%        2.0   83592.250000\n",
      "max        2.0  142432.000000\n",
      "<class 'pandas.core.frame.DataFrame'>\n",
      "RangeIndex: 41524 entries, 0 to 41523\n",
      "Data columns (total 3 columns):\n",
      " #   Column    Non-Null Count  Dtype \n",
      "---  ------    --------------  ----- \n",
      " 0   name      41524 non-null  object\n",
      " 1   id        41524 non-null  int64 \n",
      " 2   artworks  41524 non-null  int64 \n",
      "dtypes: int64(2), object(1)\n",
      "memory usage: 973.3+ KB\n",
      "None\n"
     ]
    }
   ],
   "source": [
    "print(dept2.describe())\n",
    "print(dept2.info())"
   ]
  },
  {
   "cell_type": "code",
   "execution_count": 226,
   "id": "7640894d",
   "metadata": {},
   "outputs": [
    {
     "name": "stdout",
     "output_type": "stream",
     "text": [
      "                                     name  id  artworks\n",
      "0  Chinese, South and Southeast Asian Art   1        66\n",
      "1  Chinese, South and Southeast Asian Art   1        67\n",
      "2  Chinese, South and Southeast Asian Art   1        68\n",
      "3  Chinese, South and Southeast Asian Art   1        69\n",
      "4  Chinese, South and Southeast Asian Art   1        70\n",
      "                  name  id  artworks\n",
      "0  Prints and Drawings   2         0\n",
      "1  Prints and Drawings   2         1\n",
      "2  Prints and Drawings   2         2\n",
      "3  Prints and Drawings   2         3\n",
      "4  Prints and Drawings   2         4\n"
     ]
    }
   ],
   "source": [
    "print(dept1.head())\n",
    "print(dept2.head())"
   ]
  },
  {
   "cell_type": "markdown",
   "id": "7336fc1b",
   "metadata": {},
   "source": [
    "So each department is assigned a number, that's the id in this table, and the name is the name of the department. The only changing item in this table is the artworks column. I think those are art ids and I'm thinking there are probably no duplicates? At least so far"
   ]
  },
  {
   "cell_type": "code",
   "execution_count": 227,
   "id": "c25f5ff0",
   "metadata": {},
   "outputs": [
    {
     "name": "stdout",
     "output_type": "stream",
     "text": [
      "{'exhibition_id': 10, 'exhibition_department': 'Decorative Arts, Textiles & Sculpture', 'exhibition_title': 'Japonisme', 'exhibition_description': None, 'begin': 2000, 'end': 2001, 'display_date': 'Tuesday, September 19, 2000 - Friday, October 26, 2001', 'public_info': 0, 'objects': [292, 3868, 4036, 4515, 5130, 8317, 8363, 12785, 29034, 40607, 40981, 40982], 'venues': []}\n"
     ]
    }
   ],
   "source": [
    "path_to_exhibitions = \"collection-main\\\\exhibitions\\\\0\\\\10.json\"\n",
    "with open(path_to_exhibitions, 'r') as f:\n",
    "  exhibit = json.load(f)\n",
    "\n",
    "print(exhibit)"
   ]
  },
  {
   "cell_type": "code",
   "execution_count": 228,
   "id": "1382dccd",
   "metadata": {},
   "outputs": [
    {
     "name": "stdout",
     "output_type": "stream",
     "text": [
      "<class 'pandas.core.frame.DataFrame'>\n",
      "RangeIndex: 4 entries, 0 to 3\n",
      "Data columns (total 36 columns):\n",
      " #   Column               Non-Null Count  Dtype  \n",
      "---  ------               --------------  -----  \n",
      " 0   accession_number     4 non-null      float64\n",
      " 1   art_champions_text   0 non-null      float64\n",
      " 2   artist               4 non-null      object \n",
      " 3   catalogue_raissonne  0 non-null      float64\n",
      " 4   classification       4 non-null      object \n",
      " 5   continent            4 non-null      object \n",
      " 6   country              4 non-null      object \n",
      " 7   creditline           4 non-null      object \n",
      " 8   culture              0 non-null      float64\n",
      " 9   curator_approved     4 non-null      int64  \n",
      " 10  dated                4 non-null      object \n",
      " 11  department           4 non-null      object \n",
      " 12  description          4 non-null      object \n",
      " 13  dimension            4 non-null      object \n",
      " 14  id                   4 non-null      object \n",
      " 15  image                4 non-null      object \n",
      " 16  image_copyright      4 non-null      object \n",
      " 17  image_height         4 non-null      int64  \n",
      " 18  image_width          4 non-null      int64  \n",
      " 19  inscription          4 non-null      object \n",
      " 20  life_date            4 non-null      object \n",
      " 21  markings             4 non-null      object \n",
      " 22  medium               4 non-null      object \n",
      " 23  nationality          4 non-null      object \n",
      " 24  object_name          4 non-null      object \n",
      " 25  portfolio            4 non-null      object \n",
      " 26  provenance           4 non-null      object \n",
      " 27  restricted           4 non-null      int64  \n",
      " 28  rights_type          4 non-null      object \n",
      " 29  role                 4 non-null      object \n",
      " 30  room                 4 non-null      object \n",
      " 31  see_also             4 non-null      int64  \n",
      " 32  signed               4 non-null      object \n",
      " 33  style                4 non-null      object \n",
      " 34  text                 4 non-null      object \n",
      " 35  title                4 non-null      object \n",
      "dtypes: float64(4), int64(5), object(27)\n",
      "memory usage: 1.3+ KB\n",
      "None\n",
      "       accession_number  art_champions_text  catalogue_raissonne  culture  \\\n",
      "count               4.0                 0.0                  0.0      0.0   \n",
      "mean               10.1                 NaN                  NaN      NaN   \n",
      "std                 0.0                 NaN                  NaN      NaN   \n",
      "min                10.1                 NaN                  NaN      NaN   \n",
      "25%                10.1                 NaN                  NaN      NaN   \n",
      "50%                10.1                 NaN                  NaN      NaN   \n",
      "75%                10.1                 NaN                  NaN      NaN   \n",
      "max                10.1                 NaN                  NaN      NaN   \n",
      "\n",
      "       curator_approved  image_height  image_width  restricted  see_also  \n",
      "count               4.0           4.0          4.0         4.0  4.000000  \n",
      "mean                0.0        9807.0       4168.0         0.0  1.500000  \n",
      "std                 0.0           0.0          0.0         0.0  1.290994  \n",
      "min                 0.0        9807.0       4168.0         0.0  0.000000  \n",
      "25%                 0.0        9807.0       4168.0         0.0  0.750000  \n",
      "50%                 0.0        9807.0       4168.0         0.0  1.500000  \n",
      "75%                 0.0        9807.0       4168.0         0.0  2.250000  \n",
      "max                 0.0        9807.0       4168.0         0.0  3.000000  \n",
      "   accession_number  art_champions_text  \\\n",
      "0              10.1                 NaN   \n",
      "1              10.1                 NaN   \n",
      "2              10.1                 NaN   \n",
      "3              10.1                 NaN   \n",
      "\n",
      "                                              artist  catalogue_raissonne  \\\n",
      "0  Artist: Frederick G. Smith; Artist: Formerly a...                  NaN   \n",
      "1  Artist: Frederick G. Smith; Artist: Formerly a...                  NaN   \n",
      "2  Artist: Frederick G. Smith; Artist: Formerly a...                  NaN   \n",
      "3  Artist: Frederick G. Smith; Artist: Formerly a...                  NaN   \n",
      "\n",
      "  classification continent  country  \\\n",
      "0       Drawings    Europe  England   \n",
      "1       Drawings    Europe  England   \n",
      "2       Drawings    Europe  England   \n",
      "3       Drawings    Europe  England   \n",
      "\n",
      "                                          creditline  culture  \\\n",
      "0  Gift of Mrs. C. J. Martin, in memory of Charle...      NaN   \n",
      "1  Gift of Mrs. C. J. Martin, in memory of Charle...      NaN   \n",
      "2  Gift of Mrs. C. J. Martin, in memory of Charle...      NaN   \n",
      "3  Gift of Mrs. C. J. Martin, in memory of Charle...      NaN   \n",
      "\n",
      "   curator_approved  ...                                         provenance  \\\n",
      "0                 0  ...  [Art dealer, London, acquired from \"an old hou...   \n",
      "1                 0  ...  [Art dealer, London, acquired from \"an old hou...   \n",
      "2                 0  ...  [Art dealer, London, acquired from \"an old hou...   \n",
      "3                 0  ...  [Art dealer, London, acquired from \"an old hou...   \n",
      "\n",
      "  restricted    rights_type    role         room see_also             signed  \\\n",
      "0          0  Public Domain  Artist  Not on View        0  Inscribed: D.G.R.   \n",
      "1          0  Public Domain  Artist  Not on View        1  Inscribed: D.G.R.   \n",
      "2          0  Public Domain  Artist  Not on View        2  Inscribed: D.G.R.   \n",
      "3          0  Public Domain  Artist  Not on View        3  Inscribed: D.G.R.   \n",
      "\n",
      "          style                                               text  \\\n",
      "0  19th century  The attribution of this impressive stained gla...   \n",
      "1  19th century  The attribution of this impressive stained gla...   \n",
      "2  19th century  The attribution of this impressive stained gla...   \n",
      "3  19th century  The attribution of this impressive stained gla...   \n",
      "\n",
      "                                    title  \n",
      "0  Air, from the series The Four Elements  \n",
      "1  Air, from the series The Four Elements  \n",
      "2  Air, from the series The Four Elements  \n",
      "3  Air, from the series The Four Elements  \n",
      "\n",
      "[4 rows x 36 columns]\n"
     ]
    }
   ],
   "source": [
    "object_path = \"collection-main\\\\objects\\\\0\\\\0.json\"\n",
    "object0 = pd.read_json(object_path)\n",
    "print(object0.info())\n",
    "print(object0.describe())\n",
    "print(object0.head())"
   ]
  },
  {
   "cell_type": "markdown",
   "id": "05b13bed",
   "metadata": {},
   "source": [
    "^^see_also is referring to other artworks that are related to this artwork. In this case it is a set of four pieces that go together. Some objects have this empty. I think each object json contains just one piece even though the read_json makes it seem like more."
   ]
  },
  {
   "cell_type": "markdown",
   "id": "db099246",
   "metadata": {},
   "source": [
    "It seems to me that the file names of the object folder is the object id. I don't love that personally, but it is what we have to work with. So the artwork id in the department files connects to the names of the object files.\n",
    "And the exhibition files include the artwork ids that are a part of the exhibition.\n",
    "So artwork ids are basically what we'll be working around for the most part."
   ]
  },
  {
   "cell_type": "markdown",
   "id": "69ed45d5",
   "metadata": {},
   "source": [
    "So what might the data structure of our relationial database look like? What are the relationships?"
   ]
  },
  {
   "cell_type": "markdown",
   "id": "cd4a0b55",
   "metadata": {},
   "source": [
    "- One to Many relationship between Department and Object (dept_id and art_id)\n",
    "- Many to Many relationship between Object and Exhibition (art_id and exhibit_id)\n",
    "\n",
    "I want a department table, object table, and exhibit table.\n",
    "department table will have a primary key of dept_id\n",
    "object table will have a primary key of art_id\n",
    "exhibit table will have primary key of exhibit_id. and then have a cross-reference table between object and exhibit that contains art_ids and exhibit_id pairs.\n",
    "Four (4) total tables"
   ]
  },
  {
   "cell_type": "markdown",
   "id": "c2d50846",
   "metadata": {},
   "source": [
    "## Beginning Construction of tables\n",
    "### Department Table\n",
    "The department table will contain the department id and the department name"
   ]
  },
  {
   "cell_type": "code",
   "execution_count": 229,
   "id": "237b2201",
   "metadata": {},
   "outputs": [
    {
     "name": "stdout",
     "output_type": "stream",
     "text": [
      "10\n"
     ]
    }
   ],
   "source": [
    "dept_df = []\n",
    "for file in glob.glob(\"collection-main\\\\departments\\\\*.json\"):\n",
    "    dept_df.append(pd.read_json(file))\n",
    "print(len(dept_df))\n"
   ]
  },
  {
   "cell_type": "code",
   "execution_count": 230,
   "id": "1b85c1a3",
   "metadata": {},
   "outputs": [
    {
     "name": "stdout",
     "output_type": "stream",
     "text": [
      "                                      name  id  num_artworks\n",
      "0           Art of Africa and the Americas   8          5880\n",
      "1   Chinese, South and Southeast Asian Art   1          8989\n",
      "2                         Contemporary Art  14           655\n",
      "3  Decorative Arts, Textiles and Sculpture   4         15328\n",
      "4                  Japanese and Korean Art  13          9629\n",
      "<class 'pandas.core.frame.DataFrame'>\n",
      "RangeIndex: 10 entries, 0 to 9\n",
      "Data columns (total 3 columns):\n",
      " #   Column        Non-Null Count  Dtype \n",
      "---  ------        --------------  ----- \n",
      " 0   name          10 non-null     object\n",
      " 1   id            10 non-null     int64 \n",
      " 2   num_artworks  10 non-null     int64 \n",
      "dtypes: int64(2), object(1)\n",
      "memory usage: 372.0+ bytes\n",
      "None\n"
     ]
    }
   ],
   "source": [
    "departments = pd.concat(dept_df).groupby(['name', 'id']).artworks.count().reset_index()\n",
    "departments.rename(columns={'artworks': 'num_artworks'}, inplace=True)\n",
    "print(departments.head())\n",
    "print(departments.info())\n"
   ]
  },
  {
   "cell_type": "markdown",
   "id": "b6de34a9",
   "metadata": {},
   "source": [
    "### Artwork Table\n",
    "Need a lot of columns in this one to cover all the field that are present in the original json files\n",
    "And how exactly to handle the see_also field? If we pd.read_json, we will have multiples, and if we drop duplicates then we will lose the see_also items. How important is the see_also to this project? They're already grouped via the artist name..\n",
    "\n",
    "I'm gonna go ahead and drop the see_also column completely, and then also drop duplicates from this process by using the subset accession_number.\n",
    "This is also going to end up be a gigantic table at the end since there are SO MANY artworks."
   ]
  },
  {
   "cell_type": "raw",
   "id": "975355ed",
   "metadata": {},
   "source": []
  },
  {
   "cell_type": "code",
   "execution_count": 231,
   "id": "12ef02c4",
   "metadata": {},
   "outputs": [
    {
     "name": "stdout",
     "output_type": "stream",
     "text": [
      "906\n"
     ]
    }
   ],
   "source": [
    "#I'm going to start with folder 0 of the artwork (I know there is so much more, but I can run all that through my \n",
    "#python script for it later. It'll be a good test of my datapipeline, I think)\n",
    "artwork_df = []\n",
    "for file in glob.glob(\"collection-main\\\\objects\\\\0\\\\*.json\"):\n",
    "    artwork_df.append(pd.read_json(file))\n",
    "print(len(artwork_df))"
   ]
  },
  {
   "cell_type": "code",
   "execution_count": 232,
   "id": "ac298bf9",
   "metadata": {},
   "outputs": [
    {
     "name": "stdout",
     "output_type": "stream",
     "text": [
      "<class 'pandas.core.frame.DataFrame'>\n",
      "Index: 900 entries, 0 to 0\n",
      "Data columns (total 36 columns):\n",
      " #   Column               Non-Null Count  Dtype  \n",
      "---  ------               --------------  -----  \n",
      " 0   accession_number     900 non-null    object \n",
      " 1   art_champions_text   0 non-null      float64\n",
      " 2   artist               900 non-null    object \n",
      " 3   catalogue_raissonne  10 non-null     object \n",
      " 4   classification       900 non-null    object \n",
      " 5   continent            889 non-null    object \n",
      " 6   country              888 non-null    object \n",
      " 7   creditline           900 non-null    object \n",
      " 8   culture              153 non-null    object \n",
      " 9   curator_approved     900 non-null    int64  \n",
      " 10  dated                900 non-null    object \n",
      " 11  department           900 non-null    object \n",
      " 12  description          900 non-null    object \n",
      " 13  dimension            883 non-null    object \n",
      " 14  id                   900 non-null    object \n",
      " 15  image                900 non-null    object \n",
      " 16  image_copyright      900 non-null    object \n",
      " 17  image_height         900 non-null    object \n",
      " 18  image_width          900 non-null    object \n",
      " 19  inscription          900 non-null    object \n",
      " 20  life_date            238 non-null    object \n",
      " 21  markings             900 non-null    object \n",
      " 22  medium               900 non-null    object \n",
      " 23  nationality          229 non-null    object \n",
      " 24  object_name          835 non-null    object \n",
      " 25  portfolio            811 non-null    object \n",
      " 26  provenance           900 non-null    object \n",
      " 27  restricted           900 non-null    int64  \n",
      " 28  rights_type          900 non-null    object \n",
      " 29  role                 900 non-null    object \n",
      " 30  room                 900 non-null    object \n",
      " 31  see_also             900 non-null    object \n",
      " 32  signed               900 non-null    object \n",
      " 33  style                898 non-null    object \n",
      " 34  text                 900 non-null    object \n",
      " 35  title                900 non-null    object \n",
      "dtypes: float64(1), int64(2), object(33)\n",
      "memory usage: 260.2+ KB\n",
      "None\n",
      "       art_champions_text  curator_approved  restricted\n",
      "count                 0.0        900.000000  900.000000\n",
      "mean                  NaN          0.043333    0.016667\n",
      "std                   NaN          0.203720    0.128090\n",
      "min                   NaN          0.000000    0.000000\n",
      "25%                   NaN          0.000000    0.000000\n",
      "50%                   NaN          0.000000    0.000000\n",
      "75%                   NaN          0.000000    0.000000\n",
      "max                   NaN          1.000000    1.000000\n"
     ]
    }
   ],
   "source": [
    "artworks = pd.concat(artwork_df).drop_duplicates(subset=['accession_number'])\n",
    "print(artworks.info())\n",
    "print(artworks.describe())"
   ]
  },
  {
   "cell_type": "markdown",
   "id": "dbbe29cd",
   "metadata": {},
   "source": [
    "I want info on the following columns: id, accession_number, artist, classification/object type, continent, country, creditline, dated (need to transform), department/dept_id, dimension (need to transform), medium (?), room (need to transform - make another column with on display= 1 or 0), style"
   ]
  },
  {
   "cell_type": "code",
   "execution_count": 233,
   "id": "77c03b6d",
   "metadata": {},
   "outputs": [
    {
     "name": "stdout",
     "output_type": "stream",
     "text": [
      "<class 'pandas.core.frame.DataFrame'>\n",
      "Index: 900 entries, 0 to 0\n",
      "Data columns (total 15 columns):\n",
      " #   Column            Non-Null Count  Dtype \n",
      "---  ------            --------------  ----- \n",
      " 0   accession_number  900 non-null    object\n",
      " 1   artist            900 non-null    object\n",
      " 2   classification    900 non-null    object\n",
      " 3   continent         889 non-null    object\n",
      " 4   country           888 non-null    object\n",
      " 5   creditline        900 non-null    object\n",
      " 6   curator_approved  900 non-null    int64 \n",
      " 7   dated             900 non-null    object\n",
      " 8   department        900 non-null    object\n",
      " 9   dimension         883 non-null    object\n",
      " 10  id                900 non-null    object\n",
      " 11  medium            900 non-null    object\n",
      " 12  object_name       835 non-null    object\n",
      " 13  room              900 non-null    object\n",
      " 14  style             898 non-null    object\n",
      "dtypes: int64(1), object(14)\n",
      "memory usage: 112.5+ KB\n",
      "None\n"
     ]
    }
   ],
   "source": [
    "artwork_slim = artworks.drop(columns=['art_champions_text', 'catalogue_raissonne', 'culture', 'description', 'image', 'image_copyright', 'image_height', 'image_width', 'inscription', 'life_date', 'markings', 'nationality', 'portfolio', 'provenance', 'restricted', 'rights_type', 'role', 'see_also', 'signed', 'text', 'title'])\n",
    "print(artwork_slim.info())"
   ]
  },
  {
   "cell_type": "code",
   "execution_count": 234,
   "id": "048acdfc",
   "metadata": {},
   "outputs": [],
   "source": [
    "# want to change the id now into a number instead of an object, need to trim a lot off.\n",
    "# Also want to change the dated, dimension, and room to make them more usable to me."
   ]
  },
  {
   "cell_type": "code",
   "execution_count": 235,
   "id": "1f090e08",
   "metadata": {},
   "outputs": [],
   "source": [
    "artwork_slim['id'] = artwork_slim.id.apply(lambda x: x[(x.rindex('/')+1):])"
   ]
  },
  {
   "cell_type": "code",
   "execution_count": 236,
   "id": "a25c3c96",
   "metadata": {
    "scrolled": true
   },
   "outputs": [],
   "source": [
    "# Add column to easily see if artwork is currently on display or not (0=not displayed, 1=displayed)\n",
    "artwork_slim['display'] = artwork_slim.room.apply(lambda x: 0 if x=='Not on View' else 1)"
   ]
  },
  {
   "cell_type": "code",
   "execution_count": 241,
   "id": "29d596b2",
   "metadata": {},
   "outputs": [],
   "source": [
    "# dimensions is more complicated than I originally thought. I'd like to blow it out into height, width, depth. There\n",
    "# are just a lot of formats that we need to work with.\n",
    "artwork_slim.fillna({'dimension': '0 in.'}, inplace=True)\n",
    "dimensions = artwork_slim.dimension"
   ]
  },
  {
   "cell_type": "code",
   "execution_count": 242,
   "id": "211d9700",
   "metadata": {},
   "outputs": [],
   "source": [
    "contains_inches = dimensions[dimensions.apply(lambda x: (\"in\" in x))]"
   ]
  },
  {
   "cell_type": "code",
   "execution_count": 243,
   "id": "97adcfd8",
   "metadata": {},
   "outputs": [
    {
     "name": "stdout",
     "output_type": "stream",
     "text": [
      "898\n"
     ]
    }
   ],
   "source": [
    "print(len(contains_inches))"
   ]
  },
  {
   "cell_type": "code",
   "execution_count": 244,
   "id": "4d204408",
   "metadata": {},
   "outputs": [
    {
     "name": "stdout",
     "output_type": "stream",
     "text": [
      "2\n",
      "0    H.14.5 x W.7.6 x D.3.8\n",
      "0                         f\n",
      "Name: dimension, dtype: object\n"
     ]
    }
   ],
   "source": [
    "no_inches = dimensions[dimensions.apply(lambda x: ('in' not in x))]\n",
    "print(len(no_inches))\n",
    "print(no_inches)"
   ]
  },
  {
   "cell_type": "code",
   "execution_count": null,
   "id": "3a759ef7",
   "metadata": {},
   "outputs": [],
   "source": []
  }
 ],
 "metadata": {
  "kernelspec": {
   "display_name": "Python 3 (ipykernel)",
   "language": "python",
   "name": "python3"
  },
  "language_info": {
   "codemirror_mode": {
    "name": "ipython",
    "version": 3
   },
   "file_extension": ".py",
   "mimetype": "text/x-python",
   "name": "python",
   "nbconvert_exporter": "python",
   "pygments_lexer": "ipython3",
   "version": "3.11.5"
  }
 },
 "nbformat": 4,
 "nbformat_minor": 5
}
